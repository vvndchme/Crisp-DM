{
 "cells": [
  {
   "cell_type": "markdown",
   "id": "9c460b7c",
   "metadata": {},
   "source": [
    "# Business Understanding\n",
    "\n",
    "#### Business understanding is the initial phase of the CRISP-DM methodology for the data mining process. It involves understanding the project objectives and requirements from a business perspective and then converting this knowledge of the data into a data mining problem definition and a preliminary plan designed to achieve the objectives."
   ]
  },
  {
   "cell_type": "markdown",
   "id": "c27c4dd5",
   "metadata": {},
   "source": [
    "### Determine Business Objectives\n",
    "\n",
    "The first objective of the data analyst for a context is to understand, from a business perspective, what the customer really wants to achieve. Often the customer has many competing objectives and constraints that must be properly balanced. The analyst’s goal is to show (uncover) important factors, in the beginning, that can influence the outcome of the project. A possible consequence of neglecting this step is to spend a lot of effort producing correct answers to incorrect or wrong questions."
   ]
  },
  {
   "cell_type": "markdown",
   "id": "4c576136",
   "metadata": {},
   "source": [
    "#### Background\n",
    "\n",
    "- Record the information you know about the business situation of the organisation at the beginning of the project."
   ]
  },
  {
   "cell_type": "markdown",
   "id": "ed95b95b",
   "metadata": {},
   "source": [
    "#### Business Objectives\n",
    "\n",
    "- Describe the customer’s primary objective, from a business perspective. In addition to the primary business objectives, there are typically other business questions related to what the customer would like to manage. For example, the primary business objective could be to keep current customers by predicting when they are likely to move to a competitor. Examples of related business questions are “How does the use of the primary channel (e.g., ATM, shop visit, Internet) affect whether customers stay or go?” or “Will lowering ATM fees considerably reduce the number of major customers who will leave?\""
   ]
  },
  {
   "cell_type": "markdown",
   "id": "11103320",
   "metadata": {},
   "source": [
    "#### Business Success Criteria\n",
    "- Describe the criteria for a successful or useful outcome to the project from a business point of view. This could be quite specific and capable of being measured objectively, e.g. reduction of customer churn to a certain level or value, or it could be general and subjective, such as “giving useful insights into relationships”. In the latter case, this should indicate who is making the subjective judgement."
   ]
  },
  {
   "cell_type": "markdown",
   "id": "d119b5a7",
   "metadata": {},
   "source": [
    "### Assess the Situation\n",
    "\n",
    "\n",
    "This task involves the most detailed investigation of all resources, constraints, assumptions, and other factors that should be considered in determining the data analysis objective and project plan. In the previous task, your goal is to quickly get down to the nitty-gritty of the situation. Here, you want to expand on the details."
   ]
  },
  {
   "cell_type": "markdown",
   "id": "1707a8ec",
   "metadata": {},
   "source": [
    "#### Inventory of Resources\n",
    "List the resources available for the project, including:\n",
    "- Personnel (business experts, data experts, technical support, data mining experts)\n",
    "- Data (fixed extracts, life approximations, data warehouses, or operational data)\n",
    "- Computational resources (hardware platforms)\n",
    "- Software (data mining tools, other relevant software)"
   ]
  },
  {
   "cell_type": "markdown",
   "id": "04043c26",
   "metadata": {},
   "source": [
    "#### Requirements, Assumptions, and Restrictions\n",
    "\n",
    "List all the requirements of the project, including: \n",
    "\n",
    "- The completion schedule\n",
    "- The comprehensibility and quality of the results, security, and legal issues\n",
    "- As part of this output, make sure you are allowed to use the data.\n",
    "\n",
    "List the assumptions made by the project:\n",
    "\n",
    "- Assumptions about the data that can be verified during data mining\n",
    "- Unverifiable assumptions about the business related to the project\n",
    "- It is particularly important to list whether this will affect the validity of the results\n",
    "\n",
    "List the constraints on the project. These may be:\n",
    "\n",
    "- Constraints on resource availability\n",
    "- Technological constraints such as dataset size that are practical to use for modelling"
   ]
  },
  {
   "cell_type": "markdown",
   "id": "8267cab5",
   "metadata": {},
   "source": [
    "#### Risks and Contingencies\n",
    "- List the risks or events that could delay the project or cause it to fail. \n",
    "- List the corresponding contingency plans, what action will be taken if these risks or events occur."
   ]
  },
  {
   "cell_type": "markdown",
   "id": "4fe7bf23",
   "metadata": {},
   "source": [
    "#### Terminology\n",
    "\n",
    "Compile a glossary of terminology relevant to the project. This may include two components:\n",
    "\n",
    "- A glossary of relevant business terminology, which forms the part of the business understanding available to the project. The construction of this glossary is a useful “knowledge evocation” and education exercise.\n",
    "\n",
    "- A glossary of data mining terminology, illustrated with examples relevant to the business problem at hand."
   ]
  },
  {
   "cell_type": "markdown",
   "id": "a4106c7c",
   "metadata": {},
   "source": [
    "#### Cost and Benefit Analysis\n",
    "\n",
    "- Construct a cost-benefit analysis for the project, which compares the costs of the project with the potential benefits to the business if it is successful. The comparison should be as specific as possible. For example, use monetary measures in a commercial situation."
   ]
  },
  {
   "cell_type": "markdown",
   "id": "8821e839",
   "metadata": {},
   "source": [
    "### Determine Data Mining Goals\n",
    "\n",
    "A business objective states objectives in business terminology. A data mining objective states project objectives in technical terms. For example, the business objective could be “Increase sales catalogues to existing customers”. A data mining objective might be “Predict how many trinkets a customer will buy, by obtaining data on their purchases over the past three years, demographic information (age, salary, city, etc.), and the price of the item."
   ]
  },
  {
   "cell_type": "markdown",
   "id": "f98a4c08",
   "metadata": {},
   "source": [
    "#### Data Mining Goals\n",
    "- Describe the intended outputs of the project that enable the achievement of the business objectives."
   ]
  },
  {
   "cell_type": "markdown",
   "id": "f18179b2",
   "metadata": {},
   "source": [
    "#### Data Mining Success Criteria\n",
    "- Define the criteria of a successful outcome for the project in technical terms - for example, a certain level of accurate prediction or a lean-to-buy profile with a certain degree of “lift”. As with a business success criterion, it may be necessary to describe these in subjective terms, in which case the person or persons making the subjective judgement should be identified."
   ]
  },
  {
   "cell_type": "markdown",
   "id": "83d7f47e",
   "metadata": {},
   "source": [
    "### Produce Project Plan\n",
    "\n",
    "Describe the intentional plan to achieve the data mining objectives in order to achieve the business objectives. The plan should specify the steps to be carried out during the remainder of the project, including the initial selection of tools and techniques."
   ]
  },
  {
   "cell_type": "markdown",
   "id": "794b519b",
   "metadata": {},
   "source": [
    "#### Exit Project Plan\n",
    "- List the stages to be executed in the project, together with their duration, resources required, inputs, outputs, and dependencies. Where possible, make explicit the large-scale iterations in the data mining process - for example, iterations of the modelling and evaluation phases.\n",
    "- As part of the project plan, it is also important to analyse dependencies between time planning and risks.\n",
    "- Mark the results of these analyses explicitly in the project plan, ideally with actions and recommendations if risks manifest themselves. *(Note: The project plan contains detailed projects for each phase. Decide at this point which evaluation strategy will be used in the evaluation phase.)*\n",
    "- The project plan is a dynamic document in the sense that at the end of each phase, a review of progress and achievements is necessary and a corresponding update of the project plan is recommended. Specific review points for these updates are part of the project plan."
   ]
  },
  {
   "cell_type": "markdown",
   "id": "5a3ef01c",
   "metadata": {},
   "source": [
    "#### Initial Assessment of Tools and Techniques\n",
    "- At the end of the first phase, an initial evaluation of tools and techniques should be carried out. Here, for example, you select a data mining tool that supports various methods for the different stages of the process.\n",
    "- It is important to evaluate tools and techniques early in the process from the selection of tools and techniques and this can influence the project."
   ]
  },
  {
   "cell_type": "markdown",
   "id": "0c026eeb",
   "metadata": {},
   "source": [
    "# Data Undestanding"
   ]
  },
  {
   "cell_type": "markdown",
   "id": "139238c5",
   "metadata": {},
   "source": [
    "#### Understanding the data is the second phase of the CRISP-DM methodology. It basically aims at exploring the data and verifying quality and outliers."
   ]
  },
  {
   "cell_type": "markdown",
   "id": "1cfaff80",
   "metadata": {},
   "source": [
    "### Collect Initial Data\n",
    "Acquire from the project the data (or access to data) listed in the project resources. This initial collection includes data loading, if necessary for data understanding. For example, if you use a specific tool for data understanding, it is perfectly understandable to open your data in this tool. This effort possibly leads to the initial steps of data preparation. *(Note: if you acquire data from multiple sources, integration is an additional issue, either here or later in the data preparation phases.)*"
   ]
  },
  {
   "cell_type": "markdown",
   "id": "5072d68a",
   "metadata": {},
   "source": [
    "#### Initial Data Collection Report\n",
    "- List the data set(s) acquired, together with their positions, the methods used to acquire them, and some of the problems encountered. Record the problems encountered and some of the resolutions reached. This will help with future replication (observation) of this project or with the execution of similar projects in the future."
   ]
  },
  {
   "cell_type": "markdown",
   "id": "4d5d6a16",
   "metadata": {},
   "source": [
    "### Describe Data\n",
    "Examine the “coarse” or “surface” properties of the data and report acquired results."
   ]
  },
  {
   "cell_type": "markdown",
   "id": "3a32be05",
   "metadata": {},
   "source": [
    "#### Data Description Report\n",
    "- Describe the data that has been acquired, including the format of the data, the amount of data (e.g. the number of records and fields in each table), the identifiers of the fields, and any other superficial features that have been discovered. Assess whether the acquired data satisfy the relevant requirements."
   ]
  },
  {
   "cell_type": "markdown",
   "id": "bae655bc",
   "metadata": {},
   "source": [
    "### Explore Data\n",
    "This task addresses data mining questions using queries, visualisation, and reporting techniques. These include the distribution of key attributes (e.g., the target attribute of a prediction task) related between pairs or small numbers of attributes, the results of simple aggregations, the properties of significant subpopulations, and simple statistical analyses. These analyses can directly address data mining objectives; they can also contribute to or refine data description and quality reporting, and feed into transformation and other data preparation steps needed for future analyses."
   ]
  },
  {
   "cell_type": "markdown",
   "id": "585b064c",
   "metadata": {},
   "source": [
    "#### Data Exploration Report\n",
    "- Describe the results of this task, including first conclusions or initial hypotheses and their impact on the rest of the project. If appropriate, include graphs and plots to indicate data characteristics that suggest further examination of interesting subsets of data."
   ]
  },
  {
   "cell_type": "markdown",
   "id": "ef705e72",
   "metadata": {},
   "source": [
    "### Verify Data Quality\n",
    "Examine the quality of the data, addressing questions such as: Is the data complete? Are they correct, or do they contain errors and, if so, how common are these? Are there missing values in the data? If so, how are they represented, where do they occur, and how common are they?"
   ]
  },
  {
   "cell_type": "markdown",
   "id": "29f58a21",
   "metadata": {},
   "source": [
    "#### Data Quality Report\n",
    "- List the results of the data quality check; if data quality problems exist, list possible solutions. Solutions to data quality problems generally depend on both data and business knowledge."
   ]
  },
  {
   "cell_type": "markdown",
   "id": "86533919",
   "metadata": {},
   "source": [
    "# Data Preparation"
   ]
  },
  {
   "cell_type": "markdown",
   "id": "05cbba7b",
   "metadata": {},
   "source": [
    "#### The data preparation phase deals with data collection and selection, data quality assessment, data consolidation and cleaning, and data transformation."
   ]
  },
  {
   "cell_type": "markdown",
   "id": "58998aef",
   "metadata": {},
   "source": [
    "### Select Data\n",
    "Decide what data will be used for analysis. Criteria include relevance to data mining objectives, quality, and technical constraints such as limits on data volume or data types. Note that data selection covers the selection of attributes (columns) as well as the selection of records (rows) in a table."
   ]
  },
  {
   "cell_type": "markdown",
   "id": "f424c835",
   "metadata": {},
   "source": [
    "#### Rationale for Inclusion/Exclusion\n",
    "- List the data to be included/excluded and the reasons for these decisions."
   ]
  },
  {
   "cell_type": "markdown",
   "id": "6a2c409d",
   "metadata": {},
   "source": [
    "### Clean Data\n",
    "Raise data quality to the level required by the selected analysis techniques. This may involve selection of clean data subsets, insertion of appropriate defect data, or more ambitious techniques such as estimation of missing data by modelling."
   ]
  },
  {
   "cell_type": "markdown",
   "id": "c3e01eba",
   "metadata": {},
   "source": [
    "#### Data Cleaning Report\n",
    "- Describe what decisions and actions were taken to address the data quality issues reported during the Data Quality Check task of the Data Understanding phase. Transformations of the data for appropriate cleaning and the possible impact on the analysis of results should be considered."
   ]
  },
  {
   "cell_type": "markdown",
   "id": "458e0ae3",
   "metadata": {},
   "source": [
    "### Construct Data\n",
    "This task includes the construction of data preparation operations such as the production of derived attributes or the entry of new records, or the transformation of values for existing attributes."
   ]
  },
  {
   "cell_type": "markdown",
   "id": "cdc47cd2",
   "metadata": {},
   "source": [
    "#### Derived Attributes\n",
    "- Derived attributes are new attributes that are constructed from one or more existing attributes in the same record. Example: area = length * width."
   ]
  },
  {
   "cell_type": "markdown",
   "id": "c669a547",
   "metadata": {},
   "source": [
    "#### Generated Records\n",
    "- Describe the creation of completely new records. Example: Create records for customers who did not make purchases during the past year. There was no reason to have such records in the raw data, but for the purpose of modelling this might make sense to explicitly represent the fact that certain customers have not made any purchases."
   ]
  },
  {
   "cell_type": "markdown",
   "id": "fa36779a",
   "metadata": {},
   "source": [
    "### Integrate Data\n",
    "These are methods by which information is combined from multiple tables or records to create new records or values."
   ]
  },
  {
   "cell_type": "markdown",
   "id": "c39ff06a",
   "metadata": {},
   "source": [
    "#### Merged Data\n",
    "- Combining tables refers to the simultaneous joining of two or more tables that have different information on the same object. Example: a retail chain has one table with information on the general characteristics of each shop (e.g. space, type of trade), another table with summary sales data (e.g. profit, percentage change in sales since the previous year), and the other with information on the demographics of the surrounding area. Each of these tables contains a record for each shop. These tables can be combined simultaneously into a new table with a record for each shop by combining fields from the source tables.\n",
    "- Combined data also cover aggregations. Aggregation refers to operations in which new values are calculated from information summarised from multiple records and/or tables. For example, converting a customer purchase table where there is a record for each purchase into a new table where there is a record for each customer, with fields such as number of purchases, average purchase quantity, percentage of orders charged to credit card, percentage of items under promotion, etc."
   ]
  },
  {
   "cell_type": "markdown",
   "id": "38ac605e",
   "metadata": {},
   "source": [
    "### Format Data\n",
    "Formatting transformations refer to mainly syntactic modifications made to the data that do not change its meaning, but might be required by the modelling tool."
   ]
  },
  {
   "cell_type": "markdown",
   "id": "6dbb5839",
   "metadata": {},
   "source": [
    "#### Reformatted Data\n",
    "- Some tools have requirements on the order of attributes, such as the first field being a unique identifier for each record or the last field being the result field that the model must predict.\n",
    "- It may be important to change the order of the records in the dataset. Perhaps the modelling tool requires the records to be sorted according to the value of the result attribute. Commonly, the records in the dataset are initially sorted in some way, but the modelling algorithm needs them to be in a moderately arbitrary order. For example, when using neural networks, it is generally better for the records to be presented in a random order, although some tools handle this automatically without explicit user intervention.\n",
    "- In addition, there are purely syntactic changes made to meet the requirements of the specific modelling tool. Examples: removing commas from inside text fields in comma-delimited data files cuts all values to a maximum of 32 characters."
   ]
  },
  {
   "cell_type": "markdown",
   "id": "d754cc67",
   "metadata": {},
   "source": [
    "#### Dataset\n",
    "- This is the set (or sets) produced by the data preparation phase, which will be used for modelling or for the main analysis work of the project."
   ]
  },
  {
   "cell_type": "markdown",
   "id": "5e6b8d05",
   "metadata": {},
   "source": [
    "#### Describe the Dataset\n",
    "- Describe the dataset(s) that will be used for the modelling and main analysis work of the project."
   ]
  },
  {
   "cell_type": "markdown",
   "id": "e8c08735",
   "metadata": {},
   "source": [
    "# Modeling"
   ]
  },
  {
   "cell_type": "markdown",
   "id": "6a81a338",
   "metadata": {},
   "source": [
    "#### As a first step in modelling, select the actual modelling technique that is to be used. Although you may have selected a tool during the Business Understanding phase, this task refers to the specific modelling technique, e.g., a decision tree built with C4.5, or Back-Propagation neural network generation. If multiple techniques are applied, this task is performed separately for each technique."
   ]
  },
  {
   "cell_type": "markdown",
   "id": "bac51ca7",
   "metadata": {},
   "source": [
    "### Select Modeling Techniques\n",
    "As a first step in modelling, select the actual modelling technique that is to be used. Although you may have selected a tool during the Business Understanding phase, this task refers to the specific modelling technique, e.g., a decision tree built with C4.5, or Back-Propagation neural network generation. If multiple techniques are applied, this task is performed separately for each technique."
   ]
  },
  {
   "cell_type": "markdown",
   "id": "97a90655",
   "metadata": {},
   "source": [
    "#### Modeling Technique\n",
    "- Document the actual modelling technique to be used."
   ]
  },
  {
   "cell_type": "markdown",
   "id": "b9246e80",
   "metadata": {},
   "source": [
    "#### Model Assumptions\n",
    "- Many modelling techniques make specific assumptions about the data - for example, that all attributes have uniform distributions, do not find disallowed values, the class attribute must be symbolic, etc. Record any such assumptions made."
   ]
  },
  {
   "cell_type": "markdown",
   "id": "2828558a",
   "metadata": {},
   "source": [
    "### Generate Test Design\n",
    "Before we actually build a model, we have to generate a procedure or mechanism to test the quality and validity of the model. For example, in supervised data mining tasks such as classification, it is common to use error rates as a measure of quality for data mining models. Therefore, we typically separate the dataset into a series and a test set, build the model on the series set, and estimate its quality on the separate test set."
   ]
  },
  {
   "cell_type": "markdown",
   "id": "c5b7bb70",
   "metadata": {},
   "source": [
    "#### Test Design\n",
    "- Describe the intended plan for training, testing, and evaluating models. A primary component of the plan determines how to divide an available data set into training data, test data, and validation data sets."
   ]
  },
  {
   "cell_type": "markdown",
   "id": "2ab57ab0",
   "metadata": {},
   "source": [
    "### Build Model\n",
    "Run the modelling tool on the prepared dataset to create one or more models."
   ]
  },
  {
   "cell_type": "markdown",
   "id": "fc8f069e",
   "metadata": {},
   "source": [
    "#### Parameter Settings\n",
    "- With any modelling tool, there are often a large number of parameters that can be adjusted. List the parameters and their chosen values, also with the reasoning for choosing the parameter settings."
   ]
  },
  {
   "cell_type": "markdown",
   "id": "09e2543e",
   "metadata": {},
   "source": [
    "#### Models\n",
    "- These are the actual models produced by the modelling tool, not a report."
   ]
  },
  {
   "cell_type": "markdown",
   "id": "c2fec58e",
   "metadata": {},
   "source": [
    "#### Model Descriptions\n",
    "- Describe the models obtained. Report on the interpretation of the models and document any difficulties encountered with their meanings."
   ]
  },
  {
   "cell_type": "markdown",
   "id": "9b15c8b3",
   "metadata": {},
   "source": [
    "### Assess Model\n",
    "The data mining engineer interprets the models according to his domain knowledge, the data mining success criteria, and the desired test design. The data mining engineer judges the success of the modelling application and discovers techniques more technically; he contacts business analysts and domain experts afterwards to discuss the results of data mining in the business context. Please note that this task only considers models, while the evaluation phase also takes into account all other results that were produced in the course of the project.\n",
    "\n",
    "The data mining engineer tries to classify the models. He evaluates the models according to the evaluation criteria. As much as possible, he also takes into account business objectives and business success criteria. In large data mining projects, the data mining engineer applies a single technique more than once, or generates data mining results with several different techniques. In this task, he also compares all results according to the evaluation criteria."
   ]
  },
  {
   "cell_type": "markdown",
   "id": "5930a737",
   "metadata": {},
   "source": [
    "#### Model Assessment\n",
    "- Summarise the results of this task, list the qualities of the models generated (e.g. in terms of accuracy), and rank their quality relative to each other."
   ]
  },
  {
   "cell_type": "markdown",
   "id": "3a5bc404",
   "metadata": {},
   "source": [
    "#### Revised Paramater Settings\n",
    "- Based on the model evaluation, review the fit parameters and adjust them for the next run in the Model Building task. Repeat the model building and evaluation until you feel you have found the best model (s). Document everything such as revisions and evaluations."
   ]
  },
  {
   "cell_type": "markdown",
   "id": "805f1f8d",
   "metadata": {},
   "source": [
    "# Evaluation\n",
    "#### The evaluation phase tests the data mining model and compares it with possible alternative models before a decision is made to implement it."
   ]
  },
  {
   "cell_type": "markdown",
   "id": "c2bed145",
   "metadata": {},
   "source": [
    "### Evaluation Results\n",
    "The above evaluation steps deal with factors such as the accuracy and generality of the model. This step evaluates the degree to which the model addresses (meets) the business objectives and seeks to determine if there are any business decisions for which this model is deficient. Another evaluation option is to test the model(s) on test applications in the real application, if time and budget constraints allow.\n",
    "\n",
    "In addition, the evaluation also verifies other results generated by data mining. The results of data mining involve models that are necessarily related to the original business objectives and all other findings that are not necessarily related to the original business objectives, but could also reveal additional challenges, information, or hints for future directions."
   ]
  },
  {
   "cell_type": "markdown",
   "id": "67bf97a3",
   "metadata": {},
   "source": [
    "#### Assessment of Data Mining Results Against Business Success Criteria\n",
    "- Summarise the evaluation results in terms of business success criteria, including a final statement as to whether the project has met the initial business objectives."
   ]
  },
  {
   "cell_type": "markdown",
   "id": "1f95aec9",
   "metadata": {},
   "source": [
    "#### Approved Models\n",
    "- After the evaluation of models with regard to business success criteria, the generated models that meet the selected criteria are the approved models."
   ]
  },
  {
   "cell_type": "markdown",
   "id": "45d011dc",
   "metadata": {},
   "source": [
    "### Review Process\n",
    "At this point, the resulting models become satisfactory and satisfy business needs. It is now appropriate to do a more careful review of the data mining engagements to determine if there are any important factors or tasks that have somehow been overlooked. This review also covers quality issues - for example: Did we build the model correctly? Did we use only the attributes that we were allowed to use and that are available for future analysis?"
   ]
  },
  {
   "cell_type": "markdown",
   "id": "2c653f2e",
   "metadata": {},
   "source": [
    "#### Review of Process\n",
    "- Summarise the process review and highlight activities that have been omitted and/or those that should be repeated."
   ]
  },
  {
   "cell_type": "markdown",
   "id": "d11d8ee0",
   "metadata": {},
   "source": [
    "### Determine Next Steps\n",
    "Based on the results of the evaluation and process review, the project team decides how to proceed. The team decides whether to terminate this project and take action on the development if appropriate, whether to initiate further iterations, or to start new data mining projects. This task includes analyses of remaining resources and budget, which can influence decisions."
   ]
  },
  {
   "cell_type": "markdown",
   "id": "b404e988",
   "metadata": {},
   "source": [
    "#### List of Possible Actions\n",
    "- List potential future actions, with reasons for and against each option."
   ]
  },
  {
   "cell_type": "markdown",
   "id": "bd3577a0",
   "metadata": {},
   "source": [
    "#### Decision\n",
    "- Describe the decision as to how to proceed, together with the reasoning."
   ]
  },
  {
   "cell_type": "markdown",
   "id": "44befe71",
   "metadata": {},
   "source": [
    "# Development"
   ]
  },
  {
   "cell_type": "markdown",
   "id": "0ad02cdf",
   "metadata": {},
   "source": [
    "#### The development phase determines how to use the results of the data mining problem, who needs to use them and how often. Its essential goal is the successful implementation of the data mining results."
   ]
  },
  {
   "cell_type": "markdown",
   "id": "60c7239c",
   "metadata": {},
   "source": [
    "### Plan Deployment\n",
    "According to the development of the data mining results in the business, this task takes the results of the evaluation and determines a strategy for development. If a general procedure has been identified to create the relevant model(s), this procedure is documented here for further development."
   ]
  },
  {
   "cell_type": "markdown",
   "id": "9018d5d0",
   "metadata": {},
   "source": [
    "#### Deployment Plan\n",
    "- Outline the development strategy, including the necessary steps and how to carry them out."
   ]
  },
  {
   "cell_type": "markdown",
   "id": "0acc9aef",
   "metadata": {},
   "source": [
    "### Plan Monitoring and Maintenance\n",
    "Monitoring and maintenance are important issues if data mining results are part of your daily business and environment. Careful preparation of a maintenance strategy helps to avoid unnecessary long periods of misuse of data mining results. To monitor the development of data mining results, the project needs a detailed monitoring process plan. This plan takes into account the specific type of development."
   ]
  },
  {
   "cell_type": "markdown",
   "id": "6fca37f6",
   "metadata": {},
   "source": [
    "#### Monitoring and Maintenance Plan\n",
    "- Summarise the monitoring and maintenance strategy including the necessary steps and how to perform them."
   ]
  },
  {
   "cell_type": "markdown",
   "id": "6813e36d",
   "metadata": {},
   "source": [
    "### Produce Final Report\n",
    "At the end of the project, the project leader and his team write a final report. Depending on the development plan, this report can be just a summary of the project and its experiences (if these have not yet been documented as an ongoing activity) or it can be a final and comprehensive presentation of the data mining results."
   ]
  },
  {
   "cell_type": "markdown",
   "id": "6943587c",
   "metadata": {},
   "source": [
    "#### Final Report\n",
    "- This is the final written report of the data mining engagement. This includes all previous development, summarising and organising the results."
   ]
  },
  {
   "cell_type": "markdown",
   "id": "54e91368",
   "metadata": {},
   "source": [
    "#### Final Presentation\n",
    "- There will also often be a meeting at the conclusion of the project in which the results are presented verbally to the client."
   ]
  },
  {
   "cell_type": "markdown",
   "id": "e68ed3ee",
   "metadata": {},
   "source": [
    "### Review Project\n",
    "Assess what went right and what went wrong, what was done well and what needs to be improved."
   ]
  },
  {
   "cell_type": "markdown",
   "id": "1f36c2a7",
   "metadata": {},
   "source": [
    "#### Experience Documentation\n",
    "- Summarise important experiences gained during the project. For example, cheating, misleading accesses, or hints for selecting the best data mining techniques in similar situations could be part of this documentation. In ideal projects, experience documentation also covers any reports that have been written by individual project members during the project phases and their tasks."
   ]
  }
 ],
 "metadata": {
  "kernelspec": {
   "display_name": "Python 3",
   "language": "python",
   "name": "python3"
  },
  "language_info": {
   "codemirror_mode": {
    "name": "ipython",
    "version": 3
   },
   "file_extension": ".py",
   "mimetype": "text/x-python",
   "name": "python",
   "nbconvert_exporter": "python",
   "pygments_lexer": "ipython3",
   "version": "3.8.8"
  }
 },
 "nbformat": 4,
 "nbformat_minor": 5
}
